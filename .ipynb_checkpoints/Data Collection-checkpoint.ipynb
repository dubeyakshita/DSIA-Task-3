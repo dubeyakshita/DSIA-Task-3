{
 "cells": [
  {
   "cell_type": "code",
   "execution_count": 2,
   "id": "6f3c16c3",
   "metadata": {},
   "outputs": [],
   "source": [
    "import numpy as np\n",
    "import pandas as pd"
   ]
  },
  {
   "cell_type": "markdown",
   "id": "a1b0d5bf",
   "metadata": {},
   "source": [
    "# Data Import and Exploration"
   ]
  },
  {
   "cell_type": "code",
   "execution_count": 3,
   "id": "370e2e4e",
   "metadata": {},
   "outputs": [
    {
     "name": "stdout",
     "output_type": "stream",
     "text": [
      "      machine_id product_id quality\n",
      "0  Printer F0815   P3.2.500      OK\n",
      "1  Printer F0815   P3.2.501      OK\n",
      "2  Printer F0815   P3.2.502      OK\n",
      "3  Printer F0815   P3.2.503      OK\n",
      "4  Printer F0815   P3.2.504      OK\n",
      "5  Printer F0815   P3.2.505      OK\n",
      "6  Printer F0815   P3.2.506      OK\n"
     ]
    }
   ],
   "source": [
    "product_quality_log = pd.read_csv('task3_dataset/product_quality_log.csv')\n",
    "product_quality_log = product_quality_log.drop(product_quality_log.columns[[0]], axis=1)\n",
    "print(product_quality_log.head(7))"
   ]
  },
  {
   "cell_type": "code",
   "execution_count": 37,
   "id": "f2ed2b50",
   "metadata": {},
   "outputs": [
    {
     "name": "stdout",
     "output_type": "stream",
     "text": [
      "             timestamp product_id\n",
      "0  2021-05-17_08-12-48   P3.2.500\n",
      "1  2021-05-17_08-12-51   P3.2.501\n",
      "2  2021-05-17_08-12-54   P3.2.502\n",
      "3  2021-05-17_08-12-57   P3.2.503\n",
      "4  2021-05-17_08-13-00   P3.2.504\n",
      "5  2021-05-17_08-13-03   P3.2.505\n",
      "6  2021-05-17_08-13-06   P3.2.506\n"
     ]
    }
   ],
   "source": [
    "production_log = pd.read_csv('task3_dataset/production_log.csv')\n",
    "production_log = production_log.drop(production_log.columns[[0]], axis=1)\n",
    "print(production_log.head(7))"
   ]
  },
  {
   "cell_type": "code",
   "execution_count": 39,
   "id": "e1019346",
   "metadata": {},
   "outputs": [
    {
     "name": "stdout",
     "output_type": "stream",
     "text": [
      "                    product_id     machine_id quality\n",
      "timestamp                                            \n",
      "2021-05-17_08-12-48   P3.2.500  Printer F0815      OK\n",
      "2021-05-17_08-12-51   P3.2.501  Printer F0815      OK\n",
      "2021-05-17_08-12-54   P3.2.502  Printer F0815      OK\n",
      "2021-05-17_08-12-57   P3.2.503  Printer F0815      OK\n",
      "2021-05-17_08-13-00   P3.2.504  Printer F0815      OK\n",
      "2021-05-17_08-13-03   P3.2.505  Printer F0815      OK\n",
      "2021-05-17_08-13-06   P3.2.506  Printer F0815      OK\n"
     ]
    }
   ],
   "source": [
    "complete_log = pd.merge(production_log, product_quality_log, on=\"product_id\")\n",
    "complete_log = complete_log.set_index('timestamp')\n",
    "print(complete_log.head(7))"
   ]
  },
  {
   "cell_type": "code",
   "execution_count": 45,
   "id": "67d86757",
   "metadata": {},
   "outputs": [
    {
     "name": "stdout",
     "output_type": "stream",
     "text": [
      "                      S1_mean   S2_mean  S1_median  S2_median     S1_SD  \\\n",
      "timestamp                                                                 \n",
      "2021-05-17_09-35-33 -0.118210 -0.118192     -0.117     -0.120  0.157579   \n",
      "2021-05-17_08-45-27 -0.116194 -0.116286     -0.115     -0.115  0.093921   \n",
      "2021-05-17_08-18-48 -0.117007 -0.116786     -0.117     -0.117  0.093280   \n",
      "2021-05-17_08-17-00 -0.117463 -0.117262     -0.115     -0.117  0.092153   \n",
      "2021-05-17_08-42-30 -0.117361 -0.117486     -0.117     -0.117  0.092207   \n",
      "\n",
      "                        S2_SD quality  \n",
      "timestamp                              \n",
      "2021-05-17_09-35-33  0.146342     nOK  \n",
      "2021-05-17_08-45-27  0.076787      OK  \n",
      "2021-05-17_08-18-48  0.076271      OK  \n",
      "2021-05-17_08-17-00  0.075743      OK  \n",
      "2021-05-17_08-42-30  0.075709      OK  \n"
     ]
    }
   ],
   "source": [
    "import os\n",
    "\n",
    "path = 'task3_dataset/vibrationdata'\n",
    "folder = os.fsencode(path)\n",
    "\n",
    "vibrationdata = pd.DataFrame(columns=[\"S1_mean\", \"S2_mean\", \"S1_median\", \n",
    "                                      \"S2_median\",\"S1_SD\", \"S2_SD\", \"timestamp\", \"quality\"])\n",
    "\n",
    "#looping through all files in the directory\n",
    "for file in os.listdir(folder):\n",
    "    filename = os.fsdecode(file)\n",
    "    file = open(path+\"/\"+filename)\n",
    "    \n",
    "    #loading the file data into a temporary numpy array\n",
    "    temp_array = np.loadtxt(file,delimiter='\\t')\n",
    "    \n",
    "    \n",
    "    #calculating data properties\n",
    "    mean = temp_array.astype(float).mean(0)\n",
    "    median = np.median(temp_array.astype(float),0)\n",
    "    sd = np.std(temp_array.astype(float),0)\n",
    "    \n",
    "    #Appending the features of each file to a dataframe\n",
    "    data_dictionary = {\"S1_mean\": mean[0], \"S2_mean\": mean[1],\n",
    "                       \"S1_median\": median[0], \"S2_median\": median[1],\n",
    "                       \"S1_SD\": sd[0], \"S2_SD\": sd[1], \n",
    "                       \"timestamp\": filename, \"quality\": complete_log.loc[filename]['quality']\n",
    "                      }\n",
    "    vibrationdata = vibrationdata.append(data_dictionary, ignore_index=True)\n",
    "    \n",
    "\n",
    "#changing the index to timestamp for easy access later\n",
    "vibrationdata = vibrationdata.set_index('timestamp')\n",
    "\n",
    "print(vibrationdata.head(5))\n"
   ]
  },
  {
   "cell_type": "code",
   "execution_count": 36,
   "id": "31fff5f5",
   "metadata": {},
   "outputs": [
    {
     "name": "stdout",
     "output_type": "stream",
     "text": [
      "(1656, 6)\n"
     ]
    }
   ],
   "source": []
  },
  {
   "cell_type": "code",
   "execution_count": null,
   "id": "e6334b79",
   "metadata": {},
   "outputs": [],
   "source": []
  }
 ],
 "metadata": {
  "kernelspec": {
   "display_name": "Python 3 (ipykernel)",
   "language": "python",
   "name": "python3"
  },
  "language_info": {
   "codemirror_mode": {
    "name": "ipython",
    "version": 3
   },
   "file_extension": ".py",
   "mimetype": "text/x-python",
   "name": "python",
   "nbconvert_exporter": "python",
   "pygments_lexer": "ipython3",
   "version": "3.9.7"
  }
 },
 "nbformat": 4,
 "nbformat_minor": 5
}
