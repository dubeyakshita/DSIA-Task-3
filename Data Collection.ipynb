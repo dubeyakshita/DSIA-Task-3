{
 "cells": [
  {
   "cell_type": "code",
   "execution_count": 42,
   "id": "6f3c16c3",
   "metadata": {},
   "outputs": [],
   "source": [
    "import numpy as np\n",
    "import pandas as pd"
   ]
  },
  {
   "cell_type": "markdown",
   "id": "a1b0d5bf",
   "metadata": {},
   "source": [
    "# Data Import and Exploration"
   ]
  },
  {
   "cell_type": "code",
   "execution_count": 43,
   "id": "370e2e4e",
   "metadata": {},
   "outputs": [
    {
     "name": "stdout",
     "output_type": "stream",
     "text": [
      "      machine_id product_id quality\n",
      "0  Printer F0815   P3.2.500      OK\n",
      "1  Printer F0815   P3.2.501      OK\n",
      "2  Printer F0815   P3.2.502      OK\n",
      "3  Printer F0815   P3.2.503      OK\n",
      "4  Printer F0815   P3.2.504      OK\n",
      "5  Printer F0815   P3.2.505      OK\n",
      "6  Printer F0815   P3.2.506      OK\n"
     ]
    }
   ],
   "source": [
    "product_quality_log = pd.read_csv('task3_dataset/product_quality_log.csv')\n",
    "product_quality_log = product_quality_log.drop(product_quality_log.columns[[0]], axis=1)\n",
    "print(product_quality_log.head(7))"
   ]
  },
  {
   "cell_type": "code",
   "execution_count": 44,
   "id": "f2ed2b50",
   "metadata": {},
   "outputs": [
    {
     "name": "stdout",
     "output_type": "stream",
     "text": [
      "             timestamp product_id\n",
      "0  2021-05-17_08-12-48   P3.2.500\n",
      "1  2021-05-17_08-12-51   P3.2.501\n",
      "2  2021-05-17_08-12-54   P3.2.502\n",
      "3  2021-05-17_08-12-57   P3.2.503\n",
      "4  2021-05-17_08-13-00   P3.2.504\n",
      "5  2021-05-17_08-13-03   P3.2.505\n",
      "6  2021-05-17_08-13-06   P3.2.506\n"
     ]
    }
   ],
   "source": [
    "production_log = pd.read_csv('task3_dataset/production_log.csv')\n",
    "production_log = production_log.drop(production_log.columns[[0]], axis=1)\n",
    "print(production_log.head(7))"
   ]
  },
  {
   "cell_type": "code",
   "execution_count": 45,
   "id": "67d86757",
   "metadata": {},
   "outputs": [
    {
     "name": "stdout",
     "output_type": "stream",
     "text": [
      "                                  sensor1               sensor2\n",
      "timestamp                                                      \n",
      "2021-05-17_09-35-33                 0.083  -0.28300000000000003\n",
      "2021-05-17_09-35-33                 0.083                  -0.3\n",
      "2021-05-17_09-35-33                -0.107                -0.193\n",
      "2021-05-17_09-35-33  -0.42700000000000005                -0.122\n",
      "2021-05-17_09-35-33                -0.413                   0.0\n"
     ]
    }
   ],
   "source": [
    "import os\n",
    "\n",
    "#main array for data collection from different files\n",
    "vibrationdata_array = np.empty((0,3))\n",
    "\n",
    "\n",
    "path = 'task3_dataset/vibrationdata'\n",
    "folder = os.fsencode(path)\n",
    "\n",
    "\n",
    "#looping through all files in the directory\n",
    "for file in os.listdir(folder):\n",
    "    filename = os.fsdecode(file)\n",
    "    file = open(path+\"/\"+filename)\n",
    "    \n",
    "    #loading the file data into a temporary numpy array\n",
    "    temp_array = np.loadtxt(file,delimiter='\\t')\n",
    "    \n",
    "    #adding the file name as new column\n",
    "    temp_array = np.c_[temp_array,np.array([filename for x in range(0,temp_array.shape[0])])]\n",
    "    \n",
    "    #appending data to the main array\n",
    "    vibrationdata_array = np.append(vibrationdata_array,temp_array,axis=0)\n",
    "    \"\"\"\n",
    "    remove break to run for all files in the vibrationdata folder\n",
    "    \n",
    "    \"\"\"\n",
    "    break \n",
    "\n",
    "\n",
    "#converting the main numpy array into a dataframe\n",
    "vibrationdata = pd.DataFrame(data=vibrationdata_array,columns=[\"sensor1\", \"sensor2\", \"timestamp\"])\n",
    "\n",
    "#changing the index to timestamp for easy access later\n",
    "vibrationdata = vibrationdata.set_index('timestamp')\n",
    "\n",
    "print(vibrationdata.head())\n"
   ]
  },
  {
   "cell_type": "code",
   "execution_count": 46,
   "id": "31fff5f5",
   "metadata": {},
   "outputs": [
    {
     "name": "stdout",
     "output_type": "stream",
     "text": [
      "(20480, 2)\n"
     ]
    }
   ],
   "source": [
    "print(vibrationdata.shape)"
   ]
  },
  {
   "cell_type": "code",
   "execution_count": null,
   "id": "e6334b79",
   "metadata": {},
   "outputs": [],
   "source": []
  }
 ],
 "metadata": {
  "kernelspec": {
   "display_name": "Python 3 (ipykernel)",
   "language": "python",
   "name": "python3"
  },
  "language_info": {
   "codemirror_mode": {
    "name": "ipython",
    "version": 3
   },
   "file_extension": ".py",
   "mimetype": "text/x-python",
   "name": "python",
   "nbconvert_exporter": "python",
   "pygments_lexer": "ipython3",
   "version": "3.9.7"
  }
 },
 "nbformat": 4,
 "nbformat_minor": 5
}
