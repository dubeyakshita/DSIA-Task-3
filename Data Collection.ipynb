{
 "cells": [
  {
   "cell_type": "code",
   "execution_count": 44,
   "id": "6f3c16c3",
   "metadata": {},
   "outputs": [],
   "source": [
    "import numpy as np\n",
    "import pandas as pd"
   ]
  },
  {
   "cell_type": "markdown",
   "id": "a1b0d5bf",
   "metadata": {},
   "source": [
    "# Data Import and Exploration"
   ]
  },
  {
   "cell_type": "code",
   "execution_count": 45,
   "id": "370e2e4e",
   "metadata": {},
   "outputs": [
    {
     "name": "stdout",
     "output_type": "stream",
     "text": [
      "      machine_id product_id quality\n",
      "0  Printer F0815   P3.2.500      OK\n",
      "1  Printer F0815   P3.2.501      OK\n",
      "2  Printer F0815   P3.2.502      OK\n",
      "3  Printer F0815   P3.2.503      OK\n",
      "4  Printer F0815   P3.2.504      OK\n",
      "5  Printer F0815   P3.2.505      OK\n",
      "6  Printer F0815   P3.2.506      OK\n"
     ]
    }
   ],
   "source": [
    "product_quality_log = pd.read_csv('task3_dataset/product_quality_log.csv')\n",
    "product_quality_log = product_quality_log.drop(product_quality_log.columns[[0]], axis=1)\n",
    "print(product_quality_log.head(7))"
   ]
  },
  {
   "cell_type": "code",
   "execution_count": 46,
   "id": "f2ed2b50",
   "metadata": {},
   "outputs": [
    {
     "name": "stdout",
     "output_type": "stream",
     "text": [
      "             timestamp product_id\n",
      "0  2021-05-17_08-12-48   P3.2.500\n",
      "1  2021-05-17_08-12-51   P3.2.501\n",
      "2  2021-05-17_08-12-54   P3.2.502\n",
      "3  2021-05-17_08-12-57   P3.2.503\n",
      "4  2021-05-17_08-13-00   P3.2.504\n",
      "5  2021-05-17_08-13-03   P3.2.505\n",
      "6  2021-05-17_08-13-06   P3.2.506\n"
     ]
    }
   ],
   "source": [
    "production_log = pd.read_csv('task3_dataset/production_log.csv')\n",
    "production_log = production_log.drop(production_log.columns[[0]], axis=1)\n",
    "print(production_log.head(7))"
   ]
  },
  {
   "cell_type": "code",
   "execution_count": 47,
   "id": "e1019346",
   "metadata": {},
   "outputs": [
    {
     "name": "stdout",
     "output_type": "stream",
     "text": [
      "                    product_id     machine_id quality\n",
      "timestamp                                            \n",
      "2021-05-17_08-12-48   P3.2.500  Printer F0815      OK\n",
      "2021-05-17_08-12-51   P3.2.501  Printer F0815      OK\n",
      "2021-05-17_08-12-54   P3.2.502  Printer F0815      OK\n",
      "2021-05-17_08-12-57   P3.2.503  Printer F0815      OK\n",
      "2021-05-17_08-13-00   P3.2.504  Printer F0815      OK\n",
      "2021-05-17_08-13-03   P3.2.505  Printer F0815      OK\n",
      "2021-05-17_08-13-06   P3.2.506  Printer F0815      OK\n"
     ]
    }
   ],
   "source": [
    "complete_log = pd.merge(production_log, product_quality_log, on=\"product_id\")\n",
    "complete_log = complete_log.set_index('timestamp')\n",
    "print(complete_log.head(7))"
   ]
  },
  {
   "cell_type": "code",
   "execution_count": 48,
   "id": "67d86757",
   "metadata": {},
   "outputs": [
    {
     "name": "stdout",
     "output_type": "stream",
     "text": [
      "    S1_mean   S2_mean     S1_SD     S2_SD            timestamp quality\n",
      "0 -0.236402 -0.000018  0.218936  0.211095  2021-05-17_09-35-33     nOK\n",
      "1 -0.232481  0.000092  0.132825  0.108592  2021-05-17_08-45-27      OK\n",
      "2 -0.233793 -0.000221  0.132473  0.107181  2021-05-17_08-18-48      OK\n",
      "3 -0.234725 -0.000202  0.132637  0.104239  2021-05-17_08-17-00      OK\n",
      "4 -0.234847  0.000125  0.129376  0.108305  2021-05-17_08-42-30      OK\n"
     ]
    }
   ],
   "source": [
    "import os\n",
    "\n",
    "path = 'task3_dataset/vibrationdata'\n",
    "folder = os.fsencode(path)\n",
    "\n",
    "vibrationdata = pd.DataFrame(columns=[\"S1_mean\", \"S2_mean\", \n",
    "                                      \"S1_SD\", \"S2_SD\", \n",
    "                                      \"timestamp\", \"quality\"])\n",
    "\n",
    "#looping through all files in the directory\n",
    "for file in os.listdir(folder):\n",
    "    filename = os.fsdecode(file)\n",
    "    file = open(path+\"/\"+filename)\n",
    "    \n",
    "    #loading the file data into a temporary numpy array\n",
    "    temp_array = np.loadtxt(file,delimiter='\\t').astype(float)\n",
    "    \n",
    "    \n",
    "    #Spectral Transformation\n",
    "    #t= np.linspace(0,3,20480)\n",
    "    tr = np.fft.fft(temp_array) # complex spectrum\n",
    "    #tr_abs = np.abs(tr) # amplitude spectrum\n",
    "    #f=np.fft.fftfreq(t.shape[-1])\n",
    "    \n",
    "    \n",
    "    #calculating data properties\n",
    "    mean = tr.mean(0)\n",
    "    sd = np.std(tr,0)\n",
    "    \n",
    "    #Appending the features of each file to a dataframe\n",
    "    data_dictionary = {\"S1_mean\": mean[0].real, \"S2_mean\": mean[1].real,\n",
    "                       \"S1_SD\": sd[0], \"S2_SD\": sd[1], \n",
    "                       \"timestamp\": filename, \"quality\": complete_log.loc[filename]['quality']\n",
    "                      }\n",
    "    vibrationdata = vibrationdata.append(data_dictionary, ignore_index=True)\n",
    "    \n",
    "\n",
    "print(vibrationdata.head(5))\n"
   ]
  },
  {
   "cell_type": "code",
   "execution_count": 53,
   "id": "31fff5f5",
   "metadata": {},
   "outputs": [
    {
     "data": {
      "image/png": "[encoded data removed]",
      "text/plain": [
       "<Figure size 432x288 with 1 Axes>"
      ]
     },
     "metadata": {
      "needs_background": "light"
     },
     "output_type": "display_data"
    }
   ],
   "source": [
    "%matplotlib inline\n",
    "from matplotlib import pyplot as plt\n",
    "\n",
    "vibrationdata.plot(x=\"timestamp\", y=\"S1_SD\", legend=None, y_label=\" \")\n",
    "plt.show()"
   ]
  },
  {
   "cell_type": "code",
   "execution_count": 52,
   "id": "e6334b79",
   "metadata": {},
   "outputs": [
    {
     "data": {
      "image/png": "[encoded data removed]",
      "text/plain": [
       "<Figure size 432x288 with 1 Axes>"
      ]
     },
     "metadata": {
      "needs_background": "light"
     },
     "output_type": "display_data"
    }
   ],
   "source": [
    "%matplotlib inline\n",
    "from matplotlib import pyplot as plt\n",
    "\n",
    "vibrationdata.plot(x=\"timestamp\", y=\"S2_SD\", legend=None)\n",
    "plt.show()"
   ]
  },
  {
   "cell_type": "code",
   "execution_count": 54,
   "id": "4a7789c9",
   "metadata": {},
   "outputs": [
    {
     "name": "stdout",
     "output_type": "stream",
     "text": [
      "(1656,) (1656,) (1656,)\n"
     ]
    }
   ],
   "source": [
    "x1 = vibrationdata[\"S1_SD\"]\n",
    "x2 = vibrationdata[\"S2_SD\"]\n",
    "y = vibrationdata[\"quality\"]\n",
    "\n",
    "#test train split\n",
    "x1_train = x1[0:994]\n",
    "x2_train = x1[0:994]"
   ]
  },
  {
   "cell_type": "code",
   "execution_count": null,
   "id": "f5044013",
   "metadata": {},
   "outputs": [],
   "source": [
    "from sklearn.linear_model import LogisticRegression\n",
    "\n"
   ]
  }
 ],
 "metadata": {
  "kernelspec": {
   "display_name": "Python 3 (ipykernel)",
   "language": "python",
   "name": "python3"
  },
  "language_info": {
   "codemirror_mode": {
    "name": "ipython",
    "version": 3
   },
   "file_extension": ".py",
   "mimetype": "text/x-python",
   "name": "python",
   "nbconvert_exporter": "python",
   "pygments_lexer": "ipython3",
   "version": "3.9.7"
  }
 },
 "nbformat": 4,
 "nbformat_minor": 5
}
